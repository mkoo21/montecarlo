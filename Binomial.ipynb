{
 "cells": [
  {
   "cell_type": "markdown",
   "metadata": {},
   "source": [
    "We will use MCMC to infer the $p$ parameter of a binomial distribution. This is more to take PyMC3 for a spin than to achieve deep mathematical insight :p"
   ]
  },
  {
   "cell_type": "code",
   "execution_count": 1,
   "metadata": {},
   "outputs": [],
   "source": [
    "import numpy as np\n",
    "from scipy import stats\n",
    "import pymc3\n",
    "\n",
    "import matplotlib.pyplot as plt\n",
    "plt.style.use(\"ggplot\")"
   ]
  },
  {
   "cell_type": "markdown",
   "metadata": {},
   "source": [
    "First set up some data drawn from a binomial distribution (feel free to play with the params). From this point on, we will hide the true value of $p$ from our models."
   ]
  },
  {
   "cell_type": "code",
   "execution_count": 2,
   "metadata": {},
   "outputs": [
    {
     "name": "stdout",
     "output_type": "stream",
     "text": [
      "475\n"
     ]
    }
   ],
   "source": [
    "n = 1000\n",
    "p = 0.5\n",
    "\n",
    "data = np.random.binomial(n,p)\n",
    "print(data)"
   ]
  },
  {
   "cell_type": "markdown",
   "metadata": {},
   "source": [
    "Set up our prior distribution over $p$. We will a beta distribution with $\\alpha = \\beta = 1$ to signify that we don't know anything about $p$ yet (so our beliefs are uniform). Here we just plot the distribution to sanity check the params; PyMC3 will take care of the representations within the context of a model later."
   ]
  },
  {
   "cell_type": "code",
   "execution_count": 19,
   "metadata": {},
   "outputs": [
    {
     "data": {
      "image/png": "[encoded data removed]",
      "text/plain": [
       "<Figure size 432x288 with 1 Axes>"
      ]
     },
     "metadata": {
      "needs_background": "light"
     },
     "output_type": "display_data"
    }
   ],
   "source": [
    "alpha = 1\n",
    "beta = 1\n",
    "\n",
    "def plot_distribution(dist):\n",
    "    x = np.linspace(0, 1, 100)\n",
    "    y = np.apply_along_axis(dist.pdf, 0, x)\n",
    "    _ = plt.plot(x, y)\n",
    "    \n",
    "prior = stats.beta(alpha, beta)\n",
    "plot_distribution(prior)"
   ]
  },
  {
   "cell_type": "markdown",
   "metadata": {},
   "source": [
    "So we have a binomial distribution with an unknown parameter $p$ about which we have no prior knowledge, and a bunch of observations sampled from this distribution. Let's run the Metropolis algorithmn on this setup."
   ]
  },
  {
   "cell_type": "code",
   "execution_count": 4,
   "metadata": {},
   "outputs": [
    {
     "name": "stderr",
     "output_type": "stream",
     "text": [
      "Auto-assigning NUTS sampler...\n",
      "Initializing NUTS using jitter+adapt_diag...\n",
      "Multiprocess sampling (4 chains in 4 jobs)\n",
      "NUTS: [theta]\n",
      "Sampling 4 chains: 100%|██████████| 4000/4000 [00:01<00:00, 2995.62draws/s]\n",
      "Multiprocess sampling (4 chains in 4 jobs)\n",
      "Metropolis: [theta]\n",
      "Sampling 4 chains: 100%|██████████| 402000/402000 [01:10<00:00, 5728.29draws/s]\n",
      "The number of effective samples is smaller than 10% for some parameters.\n"
     ]
    }
   ],
   "source": [
    "iterations = 100000\n",
    "\n",
    "model = pymc3.Model()\n",
    "with model:\n",
    "    theta = pymc3.Beta(\"theta\", alpha=alpha, beta=beta) # Let our prior over p be a 'free' RV named theta. This *happens* to also be a conjugate prior so we do not need MCMC, but we will use it anyways\n",
    "    likelihood = pymc3.Binomial(\"likelihood\", n=n, p=theta, observed=data) # The likelihood function is an 'observed' random variable with fixed data\n",
    "    \n",
    "    initial_guess = pymc3.sample()    \n",
    "    step = pymc3.Metropolis()\n",
    "    trace = pymc3.sample(iterations, step, initial_guess, progressbar=True)"
   ]
  },
  {
   "cell_type": "markdown",
   "metadata": {},
   "source": [
    "We can see what the model thinks about $p$ by sampling the generated Markov Chains and seeing where they spent most of their time."
   ]
  },
  {
   "cell_type": "code",
   "execution_count": 15,
   "metadata": {},
   "outputs": [
    {
     "data": {
      "image/png": "[encoded data removed]",
      "text/plain": [
       "<Figure size 432x288 with 1 Axes>"
      ]
     },
     "metadata": {
      "needs_background": "light"
     },
     "output_type": "display_data"
    }
   ],
   "source": [
    "_ = plt.hist(trace[\"theta\"], 100)"
   ]
  },
  {
   "cell_type": "markdown",
   "metadata": {},
   "source": [
    "Of course, the beta distribution is a conjugate prior to the Bernoulli/binomial distribution, so we could have just used Bayesian inference to estimate the probability of success given some data."
   ]
  },
  {
   "cell_type": "markdown",
   "metadata": {},
   "source": [
    "Skipping over the derivation, if we plug a beta likelihood function and beta distribution into Bayes' Rule with our observed data given as $N$ total trials with $z$ successful outcomes, the posterior is given as:\n",
    "\n",
    "$beta(\\theta | z + \\alpha, N - z + \\beta)$"
   ]
  },
  {
   "cell_type": "markdown",
   "metadata": {},
   "source": [
    "Let's see if we get a similar result with the analytical solution."
   ]
  },
  {
   "cell_type": "code",
   "execution_count": 20,
   "metadata": {},
   "outputs": [
    {
     "data": {
      "image/png": "[encoded data removed]",
      "text/plain": [
       "<Figure size 432x288 with 1 Axes>"
      ]
     },
     "metadata": {
      "needs_background": "light"
     },
     "output_type": "display_data"
    }
   ],
   "source": [
    "posterior = stats.beta(data + alpha, n - data + beta)\n",
    "plot_distribution(posterior)"
   ]
  }
 ],
 "metadata": {
  "kernelspec": {
   "display_name": "Python 3",
   "language": "python",
   "name": "python3"
  },
  "language_info": {
   "codemirror_mode": {
    "name": "ipython",
    "version": 3
   },
   "file_extension": ".py",
   "mimetype": "text/x-python",
   "name": "python",
   "nbconvert_exporter": "python",
   "pygments_lexer": "ipython3",
   "version": "3.7.3"
  }
 },
 "nbformat": 4,
 "nbformat_minor": 2
}
