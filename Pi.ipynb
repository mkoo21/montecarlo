{
 "cells": [
  {
   "cell_type": "code",
   "execution_count": 1,
   "metadata": {},
   "outputs": [],
   "source": [
    "import numpy as np\n",
    "import matplotlib.pyplot as plt "
   ]
  },
  {
   "cell_type": "markdown",
   "metadata": {},
   "source": [
    "We will use monte carlo simulation to empirically estimate the value of $\\pi$."
   ]
  },
  {
   "cell_type": "code",
   "execution_count": 2,
   "metadata": {},
   "outputs": [],
   "source": [
    "NUM_TRIALS = 100000000"
   ]
  },
  {
   "cell_type": "markdown",
   "metadata": {},
   "source": [
    "Generate NUM_TRIALS points within the square defined by corners $(-1,1), (1,1), (-1,-1), (1,-1)$"
   ]
  },
  {
   "cell_type": "code",
   "execution_count": 3,
   "metadata": {},
   "outputs": [],
   "source": [
    "points = np.dot(np.random.rand(NUM_TRIALS, 2), 2) - 1"
   ]
  },
  {
   "cell_type": "markdown",
   "metadata": {},
   "source": [
    "Find which points fall within the unit circle."
   ]
  },
  {
   "cell_type": "code",
   "execution_count": 4,
   "metadata": {},
   "outputs": [],
   "source": [
    "inside_circle = np.sqrt(points[:,0] ** 2 + points[:,1] ** 2) < 1"
   ]
  },
  {
   "cell_type": "markdown",
   "metadata": {},
   "source": [
    "All points fall within a square of area 4, and the unit circle has area $\\pi$. \n",
    "We expect $\\frac{\\pi}{4}$ of our points to fall within the circle. Solving for $\\pi$ we get:"
   ]
  },
  {
   "cell_type": "code",
   "execution_count": 5,
   "metadata": {},
   "outputs": [
    {
     "name": "stdout",
     "output_type": "stream",
     "text": [
      "3.14177316\n"
     ]
    }
   ],
   "source": [
    "print(np.dot(4, np.average(inside_circle)))"
   ]
  },
  {
   "cell_type": "markdown",
   "metadata": {},
   "source": [
    "Visualize the result. Skip this block if using a large ($n > 10^6$) NUM_TRIALS. Will look best with $n \\leq 10^3$ (of course, the accuracy of the actual estimate is better with a big $n$)"
   ]
  },
  {
   "cell_type": "code",
   "execution_count": 8,
   "metadata": {},
   "outputs": [],
   "source": [
    "#outside_circle = np.logical_not(inside_circle)\n",
    "#plt.scatter(points[inside_circle][:,0], points[inside_circle][:,1], c='blue')\n",
    "#plt.scatter(points[outside_circle][:,0], points[outside_circle][:,1], c='red')\n",
    "#plt.show()"
   ]
  }
 ],
 "metadata": {
  "kernelspec": {
   "display_name": "Python 3",
   "language": "python",
   "name": "python3"
  },
  "language_info": {
   "codemirror_mode": {
    "name": "ipython",
    "version": 3
   },
   "file_extension": ".py",
   "mimetype": "text/x-python",
   "name": "python",
   "nbconvert_exporter": "python",
   "pygments_lexer": "ipython3",
   "version": "3.7.3"
  }
 },
 "nbformat": 4,
 "nbformat_minor": 2
}
